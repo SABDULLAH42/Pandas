{
 "cells": [
  {
   "cell_type": "code",
   "execution_count": 1,
   "id": "8cb49674",
   "metadata": {},
   "outputs": [],
   "source": [
    "import pandas as pd\n",
    "import matplotlib.pyplot as plt\n",
    "%matplotlib inline\n",
    "import seaborn as sns"
   ]
  },
  {
   "cell_type": "code",
   "execution_count": 2,
   "id": "02a835df",
   "metadata": {},
   "outputs": [],
   "source": [
    "oo = pd.read_csv('C:\\\\Users\\\\USER\\Desktop\\\\LINKEDIN_LEARNING\\\\Ex_Files_Pandas_EssT\\\\Ex_Files_Pandas_EssT\\\\ExerciseFiles\\\\data\\\\olympics.csv', skiprows=4)"
   ]
  },
  {
   "cell_type": "code",
   "execution_count": null,
   "id": "343476f8",
   "metadata": {},
   "outputs": [],
   "source": []
  },
  {
   "cell_type": "code",
   "execution_count": 5,
   "id": "3e913ffa",
   "metadata": {},
   "outputs": [
    {
     "data": {
      "text/html": [
       "<div>\n",
       "<style scoped>\n",
       "    .dataframe tbody tr th:only-of-type {\n",
       "        vertical-align: middle;\n",
       "    }\n",
       "\n",
       "    .dataframe tbody tr th {\n",
       "        vertical-align: top;\n",
       "    }\n",
       "\n",
       "    .dataframe thead th {\n",
       "        text-align: right;\n",
       "    }\n",
       "</style>\n",
       "<table border=\"1\" class=\"dataframe\">\n",
       "  <thead>\n",
       "    <tr style=\"text-align: right;\">\n",
       "      <th></th>\n",
       "      <th>City</th>\n",
       "      <th>Edition</th>\n",
       "      <th>Sport</th>\n",
       "      <th>Discipline</th>\n",
       "      <th>Athlete</th>\n",
       "      <th>NOC</th>\n",
       "      <th>Gender</th>\n",
       "      <th>Event</th>\n",
       "      <th>Event_gender</th>\n",
       "      <th>Medal</th>\n",
       "    </tr>\n",
       "  </thead>\n",
       "  <tbody>\n",
       "    <tr>\n",
       "      <th>27174</th>\n",
       "      <td>Beijing</td>\n",
       "      <td>2008</td>\n",
       "      <td>Aquatics</td>\n",
       "      <td>Diving</td>\n",
       "      <td>GALPERIN, Gleb</td>\n",
       "      <td>RUS</td>\n",
       "      <td>Men</td>\n",
       "      <td>10m platform</td>\n",
       "      <td>M</td>\n",
       "      <td>Bronze</td>\n",
       "    </tr>\n",
       "    <tr>\n",
       "      <th>27175</th>\n",
       "      <td>Beijing</td>\n",
       "      <td>2008</td>\n",
       "      <td>Aquatics</td>\n",
       "      <td>Diving</td>\n",
       "      <td>MITCHAM, Matthew</td>\n",
       "      <td>AUS</td>\n",
       "      <td>Men</td>\n",
       "      <td>10m platform</td>\n",
       "      <td>M</td>\n",
       "      <td>Gold</td>\n",
       "    </tr>\n",
       "    <tr>\n",
       "      <th>27176</th>\n",
       "      <td>Beijing</td>\n",
       "      <td>2008</td>\n",
       "      <td>Aquatics</td>\n",
       "      <td>Diving</td>\n",
       "      <td>ZHOU, Luxin</td>\n",
       "      <td>CHN</td>\n",
       "      <td>Men</td>\n",
       "      <td>10m platform</td>\n",
       "      <td>M</td>\n",
       "      <td>Silver</td>\n",
       "    </tr>\n",
       "    <tr>\n",
       "      <th>27177</th>\n",
       "      <td>Beijing</td>\n",
       "      <td>2008</td>\n",
       "      <td>Aquatics</td>\n",
       "      <td>Diving</td>\n",
       "      <td>WANG, Xin</td>\n",
       "      <td>CHN</td>\n",
       "      <td>Women</td>\n",
       "      <td>10m platform</td>\n",
       "      <td>W</td>\n",
       "      <td>Bronze</td>\n",
       "    </tr>\n",
       "    <tr>\n",
       "      <th>27178</th>\n",
       "      <td>Beijing</td>\n",
       "      <td>2008</td>\n",
       "      <td>Aquatics</td>\n",
       "      <td>Diving</td>\n",
       "      <td>CHEN, Ruolin</td>\n",
       "      <td>CHN</td>\n",
       "      <td>Women</td>\n",
       "      <td>10m platform</td>\n",
       "      <td>W</td>\n",
       "      <td>Gold</td>\n",
       "    </tr>\n",
       "    <tr>\n",
       "      <th>...</th>\n",
       "      <td>...</td>\n",
       "      <td>...</td>\n",
       "      <td>...</td>\n",
       "      <td>...</td>\n",
       "      <td>...</td>\n",
       "      <td>...</td>\n",
       "      <td>...</td>\n",
       "      <td>...</td>\n",
       "      <td>...</td>\n",
       "      <td>...</td>\n",
       "    </tr>\n",
       "    <tr>\n",
       "      <th>29211</th>\n",
       "      <td>Beijing</td>\n",
       "      <td>2008</td>\n",
       "      <td>Wrestling</td>\n",
       "      <td>Wrestling Gre-R</td>\n",
       "      <td>ENGLICH, Mirko</td>\n",
       "      <td>GER</td>\n",
       "      <td>Men</td>\n",
       "      <td>84 - 96kg</td>\n",
       "      <td>M</td>\n",
       "      <td>Silver</td>\n",
       "    </tr>\n",
       "    <tr>\n",
       "      <th>29212</th>\n",
       "      <td>Beijing</td>\n",
       "      <td>2008</td>\n",
       "      <td>Wrestling</td>\n",
       "      <td>Wrestling Gre-R</td>\n",
       "      <td>MIZGAITIS, Mindaugas</td>\n",
       "      <td>LTU</td>\n",
       "      <td>Men</td>\n",
       "      <td>96 - 120kg</td>\n",
       "      <td>M</td>\n",
       "      <td>Bronze</td>\n",
       "    </tr>\n",
       "    <tr>\n",
       "      <th>29213</th>\n",
       "      <td>Beijing</td>\n",
       "      <td>2008</td>\n",
       "      <td>Wrestling</td>\n",
       "      <td>Wrestling Gre-R</td>\n",
       "      <td>PATRIKEEV, Yuri</td>\n",
       "      <td>ARM</td>\n",
       "      <td>Men</td>\n",
       "      <td>96 - 120kg</td>\n",
       "      <td>M</td>\n",
       "      <td>Bronze</td>\n",
       "    </tr>\n",
       "    <tr>\n",
       "      <th>29214</th>\n",
       "      <td>Beijing</td>\n",
       "      <td>2008</td>\n",
       "      <td>Wrestling</td>\n",
       "      <td>Wrestling Gre-R</td>\n",
       "      <td>LOPEZ, Mijain</td>\n",
       "      <td>CUB</td>\n",
       "      <td>Men</td>\n",
       "      <td>96 - 120kg</td>\n",
       "      <td>M</td>\n",
       "      <td>Gold</td>\n",
       "    </tr>\n",
       "    <tr>\n",
       "      <th>29215</th>\n",
       "      <td>Beijing</td>\n",
       "      <td>2008</td>\n",
       "      <td>Wrestling</td>\n",
       "      <td>Wrestling Gre-R</td>\n",
       "      <td>BAROEV, Khasan</td>\n",
       "      <td>RUS</td>\n",
       "      <td>Men</td>\n",
       "      <td>96 - 120kg</td>\n",
       "      <td>M</td>\n",
       "      <td>Silver</td>\n",
       "    </tr>\n",
       "  </tbody>\n",
       "</table>\n",
       "<p>2042 rows × 10 columns</p>\n",
       "</div>"
      ],
      "text/plain": [
       "          City  Edition      Sport       Discipline               Athlete  \\\n",
       "27174  Beijing     2008   Aquatics           Diving        GALPERIN, Gleb   \n",
       "27175  Beijing     2008   Aquatics           Diving      MITCHAM, Matthew   \n",
       "27176  Beijing     2008   Aquatics           Diving           ZHOU, Luxin   \n",
       "27177  Beijing     2008   Aquatics           Diving             WANG, Xin   \n",
       "27178  Beijing     2008   Aquatics           Diving          CHEN, Ruolin   \n",
       "...        ...      ...        ...              ...                   ...   \n",
       "29211  Beijing     2008  Wrestling  Wrestling Gre-R        ENGLICH, Mirko   \n",
       "29212  Beijing     2008  Wrestling  Wrestling Gre-R  MIZGAITIS, Mindaugas   \n",
       "29213  Beijing     2008  Wrestling  Wrestling Gre-R       PATRIKEEV, Yuri   \n",
       "29214  Beijing     2008  Wrestling  Wrestling Gre-R         LOPEZ, Mijain   \n",
       "29215  Beijing     2008  Wrestling  Wrestling Gre-R        BAROEV, Khasan   \n",
       "\n",
       "       NOC Gender         Event Event_gender   Medal  \n",
       "27174  RUS    Men  10m platform            M  Bronze  \n",
       "27175  AUS    Men  10m platform            M    Gold  \n",
       "27176  CHN    Men  10m platform            M  Silver  \n",
       "27177  CHN  Women  10m platform            W  Bronze  \n",
       "27178  CHN  Women  10m platform            W    Gold  \n",
       "...    ...    ...           ...          ...     ...  \n",
       "29211  GER    Men     84 - 96kg            M  Silver  \n",
       "29212  LTU    Men    96 - 120kg            M  Bronze  \n",
       "29213  ARM    Men    96 - 120kg            M  Bronze  \n",
       "29214  CUB    Men    96 - 120kg            M    Gold  \n",
       "29215  RUS    Men    96 - 120kg            M  Silver  \n",
       "\n",
       "[2042 rows x 10 columns]"
      ]
     },
     "execution_count": 5,
     "metadata": {},
     "output_type": "execute_result"
    }
   ],
   "source": [
    "lo = oo[oo.Edition==2008]\n",
    "lo"
   ]
  },
  {
   "cell_type": "code",
   "execution_count": 24,
   "id": "b2b6cafc",
   "metadata": {},
   "outputs": [
    {
     "data": {
      "text/html": [
       "<div>\n",
       "<style scoped>\n",
       "    .dataframe tbody tr th:only-of-type {\n",
       "        vertical-align: middle;\n",
       "    }\n",
       "\n",
       "    .dataframe tbody tr th {\n",
       "        vertical-align: top;\n",
       "    }\n",
       "\n",
       "    .dataframe thead th {\n",
       "        text-align: right;\n",
       "    }\n",
       "</style>\n",
       "<table border=\"1\" class=\"dataframe\">\n",
       "  <thead>\n",
       "    <tr style=\"text-align: right;\">\n",
       "      <th>Medal</th>\n",
       "      <th>Bronze</th>\n",
       "      <th>Gold</th>\n",
       "      <th>Silver</th>\n",
       "    </tr>\n",
       "    <tr>\n",
       "      <th>NOC</th>\n",
       "      <th></th>\n",
       "      <th></th>\n",
       "      <th></th>\n",
       "    </tr>\n",
       "  </thead>\n",
       "  <tbody>\n",
       "    <tr>\n",
       "      <th>AFG</th>\n",
       "      <td>1</td>\n",
       "      <td>0</td>\n",
       "      <td>0</td>\n",
       "    </tr>\n",
       "    <tr>\n",
       "      <th>ALG</th>\n",
       "      <td>1</td>\n",
       "      <td>0</td>\n",
       "      <td>1</td>\n",
       "    </tr>\n",
       "    <tr>\n",
       "      <th>ARG</th>\n",
       "      <td>31</td>\n",
       "      <td>20</td>\n",
       "      <td>0</td>\n",
       "    </tr>\n",
       "    <tr>\n",
       "      <th>ARM</th>\n",
       "      <td>6</td>\n",
       "      <td>0</td>\n",
       "      <td>0</td>\n",
       "    </tr>\n",
       "    <tr>\n",
       "      <th>AUS</th>\n",
       "      <td>76</td>\n",
       "      <td>31</td>\n",
       "      <td>42</td>\n",
       "    </tr>\n",
       "    <tr>\n",
       "      <th>...</th>\n",
       "      <td>...</td>\n",
       "      <td>...</td>\n",
       "      <td>...</td>\n",
       "    </tr>\n",
       "    <tr>\n",
       "      <th>USA</th>\n",
       "      <td>81</td>\n",
       "      <td>125</td>\n",
       "      <td>109</td>\n",
       "    </tr>\n",
       "    <tr>\n",
       "      <th>UZB</th>\n",
       "      <td>3</td>\n",
       "      <td>1</td>\n",
       "      <td>2</td>\n",
       "    </tr>\n",
       "    <tr>\n",
       "      <th>VEN</th>\n",
       "      <td>1</td>\n",
       "      <td>0</td>\n",
       "      <td>0</td>\n",
       "    </tr>\n",
       "    <tr>\n",
       "      <th>VIE</th>\n",
       "      <td>0</td>\n",
       "      <td>0</td>\n",
       "      <td>1</td>\n",
       "    </tr>\n",
       "    <tr>\n",
       "      <th>ZIM</th>\n",
       "      <td>0</td>\n",
       "      <td>1</td>\n",
       "      <td>3</td>\n",
       "    </tr>\n",
       "  </tbody>\n",
       "</table>\n",
       "<p>86 rows × 3 columns</p>\n",
       "</div>"
      ],
      "text/plain": [
       "Medal  Bronze  Gold  Silver\n",
       "NOC                        \n",
       "AFG         1     0       0\n",
       "ALG         1     0       1\n",
       "ARG        31    20       0\n",
       "ARM         6     0       0\n",
       "AUS        76    31      42\n",
       "..        ...   ...     ...\n",
       "USA        81   125     109\n",
       "UZB         3     1       2\n",
       "VEN         1     0       0\n",
       "VIE         0     0       1\n",
       "ZIM         0     1       3\n",
       "\n",
       "[86 rows x 3 columns]"
      ]
     },
     "execution_count": 24,
     "metadata": {},
     "output_type": "execute_result"
    }
   ],
   "source": [
    "g = lo.groupby(['NOC','Medal']).size().unstack('Medal', fill_value =0)\n",
    "g"
   ]
  },
  {
   "cell_type": "code",
   "execution_count": 36,
   "id": "5e6bce26",
   "metadata": {},
   "outputs": [
    {
     "data": {
      "text/html": [
       "<div>\n",
       "<style scoped>\n",
       "    .dataframe tbody tr th:only-of-type {\n",
       "        vertical-align: middle;\n",
       "    }\n",
       "\n",
       "    .dataframe tbody tr th {\n",
       "        vertical-align: top;\n",
       "    }\n",
       "\n",
       "    .dataframe thead th {\n",
       "        text-align: right;\n",
       "    }\n",
       "</style>\n",
       "<table border=\"1\" class=\"dataframe\">\n",
       "  <thead>\n",
       "    <tr style=\"text-align: right;\">\n",
       "      <th>Medal</th>\n",
       "      <th>Gold</th>\n",
       "      <th>Silver</th>\n",
       "      <th>Bronze</th>\n",
       "    </tr>\n",
       "    <tr>\n",
       "      <th>NOC</th>\n",
       "      <th></th>\n",
       "      <th></th>\n",
       "      <th></th>\n",
       "    </tr>\n",
       "  </thead>\n",
       "  <tbody>\n",
       "    <tr>\n",
       "      <th>USA</th>\n",
       "      <td>125</td>\n",
       "      <td>109</td>\n",
       "      <td>81</td>\n",
       "    </tr>\n",
       "    <tr>\n",
       "      <th>CHN</th>\n",
       "      <td>74</td>\n",
       "      <td>53</td>\n",
       "      <td>57</td>\n",
       "    </tr>\n",
       "    <tr>\n",
       "      <th>RUS</th>\n",
       "      <td>43</td>\n",
       "      <td>44</td>\n",
       "      <td>56</td>\n",
       "    </tr>\n",
       "    <tr>\n",
       "      <th>GER</th>\n",
       "      <td>42</td>\n",
       "      <td>16</td>\n",
       "      <td>43</td>\n",
       "    </tr>\n",
       "    <tr>\n",
       "      <th>KOR</th>\n",
       "      <td>41</td>\n",
       "      <td>11</td>\n",
       "      <td>26</td>\n",
       "    </tr>\n",
       "    <tr>\n",
       "      <th>...</th>\n",
       "      <td>...</td>\n",
       "      <td>...</td>\n",
       "      <td>...</td>\n",
       "    </tr>\n",
       "    <tr>\n",
       "      <th>ISR</th>\n",
       "      <td>0</td>\n",
       "      <td>0</td>\n",
       "      <td>1</td>\n",
       "    </tr>\n",
       "    <tr>\n",
       "      <th>MDA</th>\n",
       "      <td>0</td>\n",
       "      <td>0</td>\n",
       "      <td>1</td>\n",
       "    </tr>\n",
       "    <tr>\n",
       "      <th>MRI</th>\n",
       "      <td>0</td>\n",
       "      <td>0</td>\n",
       "      <td>1</td>\n",
       "    </tr>\n",
       "    <tr>\n",
       "      <th>TOG</th>\n",
       "      <td>0</td>\n",
       "      <td>0</td>\n",
       "      <td>1</td>\n",
       "    </tr>\n",
       "    <tr>\n",
       "      <th>VEN</th>\n",
       "      <td>0</td>\n",
       "      <td>0</td>\n",
       "      <td>1</td>\n",
       "    </tr>\n",
       "  </tbody>\n",
       "</table>\n",
       "<p>86 rows × 3 columns</p>\n",
       "</div>"
      ],
      "text/plain": [
       "Medal  Gold  Silver  Bronze\n",
       "NOC                        \n",
       "USA     125     109      81\n",
       "CHN      74      53      57\n",
       "RUS      43      44      56\n",
       "GER      42      16      43\n",
       "KOR      41      11      26\n",
       "..      ...     ...     ...\n",
       "ISR       0       0       1\n",
       "MDA       0       0       1\n",
       "MRI       0       0       1\n",
       "TOG       0       0       1\n",
       "VEN       0       0       1\n",
       "\n",
       "[86 rows x 3 columns]"
      ]
     },
     "execution_count": 36,
     "metadata": {},
     "output_type": "execute_result"
    }
   ],
   "source": [
    "g = g.sort_values(['Gold', 'Silver', 'Bronze'], ascending=False)[['Gold', 'Silver', 'Bronze']]\n",
    "g"
   ]
  },
  {
   "cell_type": "code",
   "execution_count": 25,
   "id": "10e177b4",
   "metadata": {},
   "outputs": [
    {
     "data": {
      "text/plain": [
       "<AxesSubplot:xlabel='Medal', ylabel='NOC'>"
      ]
     },
     "execution_count": 25,
     "metadata": {},
     "output_type": "execute_result"
    },
    {
     "data": {
      "image/png": "[encoded data removed]",
      "text/plain": [
       "<Figure size 640x480 with 2 Axes>"
      ]
     },
     "metadata": {},
     "output_type": "display_data"
    }
   ],
   "source": [
    "sns.heatmap(g)"
   ]
  },
  {
   "cell_type": "code",
   "execution_count": 33,
   "id": "6f8540bd",
   "metadata": {},
   "outputs": [],
   "source": [
    "h = g.transpose()"
   ]
  },
  {
   "cell_type": "code",
   "execution_count": 34,
   "id": "68e787e9",
   "metadata": {},
   "outputs": [
    {
     "data": {
      "text/html": [
       "<div>\n",
       "<style scoped>\n",
       "    .dataframe tbody tr th:only-of-type {\n",
       "        vertical-align: middle;\n",
       "    }\n",
       "\n",
       "    .dataframe tbody tr th {\n",
       "        vertical-align: top;\n",
       "    }\n",
       "\n",
       "    .dataframe thead th {\n",
       "        text-align: right;\n",
       "    }\n",
       "</style>\n",
       "<table border=\"1\" class=\"dataframe\">\n",
       "  <thead>\n",
       "    <tr style=\"text-align: right;\">\n",
       "      <th>NOC</th>\n",
       "      <th>AFG</th>\n",
       "      <th>ALG</th>\n",
       "      <th>ARG</th>\n",
       "      <th>ARM</th>\n",
       "      <th>AUS</th>\n",
       "      <th>AUT</th>\n",
       "      <th>AZE</th>\n",
       "      <th>BAH</th>\n",
       "      <th>BEL</th>\n",
       "      <th>BLR</th>\n",
       "      <th>...</th>\n",
       "      <th>TPE</th>\n",
       "      <th>TRI</th>\n",
       "      <th>TUN</th>\n",
       "      <th>TUR</th>\n",
       "      <th>UKR</th>\n",
       "      <th>USA</th>\n",
       "      <th>UZB</th>\n",
       "      <th>VEN</th>\n",
       "      <th>VIE</th>\n",
       "      <th>ZIM</th>\n",
       "    </tr>\n",
       "    <tr>\n",
       "      <th>Medal</th>\n",
       "      <th></th>\n",
       "      <th></th>\n",
       "      <th></th>\n",
       "      <th></th>\n",
       "      <th></th>\n",
       "      <th></th>\n",
       "      <th></th>\n",
       "      <th></th>\n",
       "      <th></th>\n",
       "      <th></th>\n",
       "      <th></th>\n",
       "      <th></th>\n",
       "      <th></th>\n",
       "      <th></th>\n",
       "      <th></th>\n",
       "      <th></th>\n",
       "      <th></th>\n",
       "      <th></th>\n",
       "      <th></th>\n",
       "      <th></th>\n",
       "      <th></th>\n",
       "    </tr>\n",
       "  </thead>\n",
       "  <tbody>\n",
       "    <tr>\n",
       "      <th>Bronze</th>\n",
       "      <td>1</td>\n",
       "      <td>1</td>\n",
       "      <td>31</td>\n",
       "      <td>6</td>\n",
       "      <td>76</td>\n",
       "      <td>2</td>\n",
       "      <td>4</td>\n",
       "      <td>1</td>\n",
       "      <td>0</td>\n",
       "      <td>17</td>\n",
       "      <td>...</td>\n",
       "      <td>4</td>\n",
       "      <td>0</td>\n",
       "      <td>0</td>\n",
       "      <td>3</td>\n",
       "      <td>16</td>\n",
       "      <td>81</td>\n",
       "      <td>3</td>\n",
       "      <td>1</td>\n",
       "      <td>0</td>\n",
       "      <td>0</td>\n",
       "    </tr>\n",
       "    <tr>\n",
       "      <th>Gold</th>\n",
       "      <td>0</td>\n",
       "      <td>0</td>\n",
       "      <td>20</td>\n",
       "      <td>0</td>\n",
       "      <td>31</td>\n",
       "      <td>0</td>\n",
       "      <td>1</td>\n",
       "      <td>0</td>\n",
       "      <td>1</td>\n",
       "      <td>8</td>\n",
       "      <td>...</td>\n",
       "      <td>0</td>\n",
       "      <td>0</td>\n",
       "      <td>1</td>\n",
       "      <td>1</td>\n",
       "      <td>10</td>\n",
       "      <td>125</td>\n",
       "      <td>1</td>\n",
       "      <td>0</td>\n",
       "      <td>0</td>\n",
       "      <td>1</td>\n",
       "    </tr>\n",
       "    <tr>\n",
       "      <th>Silver</th>\n",
       "      <td>0</td>\n",
       "      <td>1</td>\n",
       "      <td>0</td>\n",
       "      <td>0</td>\n",
       "      <td>42</td>\n",
       "      <td>1</td>\n",
       "      <td>2</td>\n",
       "      <td>4</td>\n",
       "      <td>4</td>\n",
       "      <td>5</td>\n",
       "      <td>...</td>\n",
       "      <td>0</td>\n",
       "      <td>5</td>\n",
       "      <td>0</td>\n",
       "      <td>4</td>\n",
       "      <td>5</td>\n",
       "      <td>109</td>\n",
       "      <td>2</td>\n",
       "      <td>0</td>\n",
       "      <td>1</td>\n",
       "      <td>3</td>\n",
       "    </tr>\n",
       "  </tbody>\n",
       "</table>\n",
       "<p>3 rows × 86 columns</p>\n",
       "</div>"
      ],
      "text/plain": [
       "NOC     AFG  ALG  ARG  ARM  AUS  AUT  AZE  BAH  BEL  BLR  ...  TPE  TRI  TUN  \\\n",
       "Medal                                                     ...                  \n",
       "Bronze    1    1   31    6   76    2    4    1    0   17  ...    4    0    0   \n",
       "Gold      0    0   20    0   31    0    1    0    1    8  ...    0    0    1   \n",
       "Silver    0    1    0    0   42    1    2    4    4    5  ...    0    5    0   \n",
       "\n",
       "NOC     TUR  UKR  USA  UZB  VEN  VIE  ZIM  \n",
       "Medal                                      \n",
       "Bronze    3   16   81    3    1    0    0  \n",
       "Gold      1   10  125    1    0    0    1  \n",
       "Silver    4    5  109    2    0    1    3  \n",
       "\n",
       "[3 rows x 86 columns]"
      ]
     },
     "execution_count": 34,
     "metadata": {},
     "output_type": "execute_result"
    }
   ],
   "source": [
    "h"
   ]
  },
  {
   "cell_type": "code",
   "execution_count": 38,
   "id": "2b1d1902",
   "metadata": {},
   "outputs": [
    {
     "data": {
      "text/plain": [
       "<AxesSubplot:xlabel='NOC', ylabel='Medal'>"
      ]
     },
     "execution_count": 38,
     "metadata": {},
     "output_type": "execute_result"
    },
    {
     "data": {
      "image/png": "[encoded data removed]",
      "text/plain": [
       "<Figure size 1600x500 with 2 Axes>"
      ]
     },
     "metadata": {},
     "output_type": "display_data"
    }
   ],
   "source": [
    "plt.figure(figsize=(16,5))\n",
    "sns.heatmap(h)"
   ]
  },
  {
   "cell_type": "markdown",
   "id": "1aa77c4b",
   "metadata": {},
   "source": [
    "# Creating your own colormap"
   ]
  },
  {
   "cell_type": "code",
   "execution_count": 41,
   "id": "248a4337",
   "metadata": {},
   "outputs": [
    {
     "data": {
      "text/html": [
       "<div>\n",
       "<style scoped>\n",
       "    .dataframe tbody tr th:only-of-type {\n",
       "        vertical-align: middle;\n",
       "    }\n",
       "\n",
       "    .dataframe tbody tr th {\n",
       "        vertical-align: top;\n",
       "    }\n",
       "\n",
       "    .dataframe thead th {\n",
       "        text-align: right;\n",
       "    }\n",
       "</style>\n",
       "<table border=\"1\" class=\"dataframe\">\n",
       "  <thead>\n",
       "    <tr style=\"text-align: right;\">\n",
       "      <th>Medal</th>\n",
       "      <th>Bronze</th>\n",
       "      <th>Gold</th>\n",
       "      <th>Silver</th>\n",
       "    </tr>\n",
       "    <tr>\n",
       "      <th>Athlete</th>\n",
       "      <th></th>\n",
       "      <th></th>\n",
       "      <th></th>\n",
       "    </tr>\n",
       "  </thead>\n",
       "  <tbody>\n",
       "    <tr>\n",
       "      <th>AABYE, Edgar</th>\n",
       "      <td>0</td>\n",
       "      <td>1</td>\n",
       "      <td>0</td>\n",
       "    </tr>\n",
       "    <tr>\n",
       "      <th>AALTONEN, Arvo Ossian</th>\n",
       "      <td>2</td>\n",
       "      <td>0</td>\n",
       "      <td>0</td>\n",
       "    </tr>\n",
       "    <tr>\n",
       "      <th>AALTONEN, Paavo Johannes</th>\n",
       "      <td>2</td>\n",
       "      <td>3</td>\n",
       "      <td>0</td>\n",
       "    </tr>\n",
       "    <tr>\n",
       "      <th>AAMODT, Ragnhild</th>\n",
       "      <td>0</td>\n",
       "      <td>1</td>\n",
       "      <td>0</td>\n",
       "    </tr>\n",
       "    <tr>\n",
       "      <th>AANING, Alf Lied</th>\n",
       "      <td>0</td>\n",
       "      <td>0</td>\n",
       "      <td>1</td>\n",
       "    </tr>\n",
       "    <tr>\n",
       "      <th>...</th>\n",
       "      <td>...</td>\n",
       "      <td>...</td>\n",
       "      <td>...</td>\n",
       "    </tr>\n",
       "    <tr>\n",
       "      <th>ÖSTERVOLD, Jan Olsen</th>\n",
       "      <td>0</td>\n",
       "      <td>1</td>\n",
       "      <td>0</td>\n",
       "    </tr>\n",
       "    <tr>\n",
       "      <th>ÖSTERVOLD, Kristian Olsen</th>\n",
       "      <td>0</td>\n",
       "      <td>1</td>\n",
       "      <td>0</td>\n",
       "    </tr>\n",
       "    <tr>\n",
       "      <th>ÖSTERVOLD, Ole Olsen</th>\n",
       "      <td>0</td>\n",
       "      <td>1</td>\n",
       "      <td>0</td>\n",
       "    </tr>\n",
       "    <tr>\n",
       "      <th>ÖSTMO, Ole</th>\n",
       "      <td>2</td>\n",
       "      <td>0</td>\n",
       "      <td>2</td>\n",
       "    </tr>\n",
       "    <tr>\n",
       "      <th>ÖSTRAND, Per-Olof</th>\n",
       "      <td>1</td>\n",
       "      <td>0</td>\n",
       "      <td>0</td>\n",
       "    </tr>\n",
       "  </tbody>\n",
       "</table>\n",
       "<p>21413 rows × 3 columns</p>\n",
       "</div>"
      ],
      "text/plain": [
       "Medal                      Bronze  Gold  Silver\n",
       "Athlete                                        \n",
       "AABYE, Edgar                    0     1       0\n",
       "AALTONEN, Arvo Ossian           2     0       0\n",
       "AALTONEN, Paavo Johannes        2     3       0\n",
       "AAMODT, Ragnhild                0     1       0\n",
       "AANING, Alf Lied                0     0       1\n",
       "...                           ...   ...     ...\n",
       "ÖSTERVOLD, Jan Olsen            0     1       0\n",
       "ÖSTERVOLD, Kristian Olsen       0     1       0\n",
       "ÖSTERVOLD, Ole Olsen            0     1       0\n",
       "ÖSTMO, Ole                      2     0       2\n",
       "ÖSTRAND, Per-Olof               1     0       0\n",
       "\n",
       "[21413 rows x 3 columns]"
      ]
     },
     "execution_count": 41,
     "metadata": {},
     "output_type": "execute_result"
    }
   ],
   "source": [
    "g = oo.groupby(['Athlete', 'Medal']).size().unstack('Medal',fill_value= 0)\n",
    "g"
   ]
  },
  {
   "cell_type": "code",
   "execution_count": 42,
   "id": "01dd0b18",
   "metadata": {},
   "outputs": [
    {
     "data": {
      "text/plain": [
       "<AxesSubplot:xlabel='Athlete'>"
      ]
     },
     "execution_count": 42,
     "metadata": {},
     "output_type": "execute_result"
    },
    {
     "data": {
      "image/png": "[encoded data removed]",
      "text/plain": [
       "<Figure size 640x480 with 1 Axes>"
      ]
     },
     "metadata": {},
     "output_type": "display_data"
    }
   ],
   "source": [
    "g.sort_values(['Gold', 'Silver', 'Bronze'], ascending=False)[['Gold', 'Silver', 'Bronze']].head().plot(kind='bar')"
   ]
  },
  {
   "cell_type": "code",
   "execution_count": 43,
   "id": "cd0b490c",
   "metadata": {},
   "outputs": [],
   "source": [
    "from matplotlib.colors import ListedColormap"
   ]
  },
  {
   "cell_type": "code",
   "execution_count": 45,
   "id": "f371df8f",
   "metadata": {},
   "outputs": [
    {
     "data": {
      "text/html": [
       "<svg  width=\"550\" height=\"55\"><rect x=\"0\" y=\"0\" width=\"55\" height=\"55\" style=\"fill:#1f77b4;stroke-width:2;stroke:rgb(255,255,255)\"/><rect x=\"55\" y=\"0\" width=\"55\" height=\"55\" style=\"fill:#ff7f0e;stroke-width:2;stroke:rgb(255,255,255)\"/><rect x=\"110\" y=\"0\" width=\"55\" height=\"55\" style=\"fill:#2ca02c;stroke-width:2;stroke:rgb(255,255,255)\"/><rect x=\"165\" y=\"0\" width=\"55\" height=\"55\" style=\"fill:#d62728;stroke-width:2;stroke:rgb(255,255,255)\"/><rect x=\"220\" y=\"0\" width=\"55\" height=\"55\" style=\"fill:#9467bd;stroke-width:2;stroke:rgb(255,255,255)\"/><rect x=\"275\" y=\"0\" width=\"55\" height=\"55\" style=\"fill:#8c564b;stroke-width:2;stroke:rgb(255,255,255)\"/><rect x=\"330\" y=\"0\" width=\"55\" height=\"55\" style=\"fill:#e377c2;stroke-width:2;stroke:rgb(255,255,255)\"/><rect x=\"385\" y=\"0\" width=\"55\" height=\"55\" style=\"fill:#7f7f7f;stroke-width:2;stroke:rgb(255,255,255)\"/><rect x=\"440\" y=\"0\" width=\"55\" height=\"55\" style=\"fill:#bcbd22;stroke-width:2;stroke:rgb(255,255,255)\"/><rect x=\"495\" y=\"0\" width=\"55\" height=\"55\" style=\"fill:#17becf;stroke-width:2;stroke:rgb(255,255,255)\"/></svg>"
      ],
      "text/plain": [
       "[(0.12156862745098039, 0.4666666666666667, 0.7058823529411765),\n",
       " (1.0, 0.4980392156862745, 0.054901960784313725),\n",
       " (0.17254901960784313, 0.6274509803921569, 0.17254901960784313),\n",
       " (0.8392156862745098, 0.15294117647058825, 0.1568627450980392),\n",
       " (0.5803921568627451, 0.403921568627451, 0.7411764705882353),\n",
       " (0.5490196078431373, 0.33725490196078434, 0.29411764705882354),\n",
       " (0.8901960784313725, 0.4666666666666667, 0.7607843137254902),\n",
       " (0.4980392156862745, 0.4980392156862745, 0.4980392156862745),\n",
       " (0.7372549019607844, 0.7411764705882353, 0.13333333333333333),\n",
       " (0.09019607843137255, 0.7450980392156863, 0.8117647058823529)]"
      ]
     },
     "execution_count": 45,
     "metadata": {},
     "output_type": "execute_result"
    }
   ],
   "source": [
    "sns.color_palette()"
   ]
  },
  {
   "cell_type": "code",
   "execution_count": 48,
   "id": "232007aa",
   "metadata": {},
   "outputs": [
    {
     "data": {
      "image/png": "[encoded data removed]",
      "text/plain": [
       "<Figure size 600x100 with 1 Axes>"
      ]
     },
     "metadata": {},
     "output_type": "display_data"
    }
   ],
   "source": [
    "from matplotlib import pyplot as plt\n",
    "import seaborn as sns\n",
    "current_palette = sns.color_palette()\n",
    "sns.palplot(sns.color_palette(\"Greys\"))\n",
    "plt.show()"
   ]
  },
  {
   "cell_type": "code",
   "execution_count": 49,
   "id": "4018b891",
   "metadata": {},
   "outputs": [
    {
     "data": {
      "text/plain": [
       "<AxesSubplot:xlabel='Athlete'>"
      ]
     },
     "execution_count": 49,
     "metadata": {},
     "output_type": "execute_result"
    },
    {
     "data": {
      "image/png": "[encoded data removed]",
      "text/plain": [
       "<Figure size 640x480 with 1 Axes>"
      ]
     },
     "metadata": {},
     "output_type": "display_data"
    }
   ],
   "source": [
    "g.sort_values(['Gold', 'Silver', 'Bronze'], ascending=False)[['Gold', 'Silver', 'Bronze']].head().plot(kind='bar')"
   ]
  },
  {
   "cell_type": "code",
   "execution_count": 60,
   "id": "a02490ef",
   "metadata": {},
   "outputs": [
    {
     "data": {
      "image/png": "[encoded data removed]",
      "text/plain": [
       "<Figure size 300x100 with 1 Axes>"
      ]
     },
     "metadata": {},
     "output_type": "display_data"
    }
   ],
   "source": [
    "color = [ \"Red\", \"Green\", \"White\"]\n",
    "sns.set_palette(color)\n",
    "sns.palplot(sns.color_palette())"
   ]
  },
  {
   "cell_type": "code",
   "execution_count": 58,
   "id": "e4b2820b",
   "metadata": {},
   "outputs": [
    {
     "data": {
      "text/plain": [
       "<AxesSubplot:xlabel='Athlete'>"
      ]
     },
     "execution_count": 58,
     "metadata": {},
     "output_type": "execute_result"
    },
    {
     "data": {
      "image/png": "[encoded data removed]",
      "text/plain": [
       "<Figure size 640x480 with 1 Axes>"
      ]
     },
     "metadata": {},
     "output_type": "display_data"
    }
   ],
   "source": [
    "g.sort_values(['Gold', 'Silver', 'Bronze'], ascending=False)[['Gold', 'Silver', 'Bronze']].head().plot(kind='bar')"
   ]
  },
  {
   "cell_type": "code",
   "execution_count": null,
   "id": "ea78728b",
   "metadata": {},
   "outputs": [],
   "source": []
  }
 ],
 "metadata": {
  "kernelspec": {
   "display_name": "Python 3 (ipykernel)",
   "language": "python",
   "name": "python3"
  },
  "language_info": {
   "codemirror_mode": {
    "name": "ipython",
    "version": 3
   },
   "file_extension": ".py",
   "mimetype": "text/x-python",
   "name": "python",
   "nbconvert_exporter": "python",
   "pygments_lexer": "ipython3",
   "version": "3.9.13"
  }
 },
 "nbformat": 4,
 "nbformat_minor": 5
}
